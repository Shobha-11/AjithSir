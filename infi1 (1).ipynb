{
 "cells": [
  {
   "cell_type": "markdown",
   "metadata": {},
   "source": [
    "### To move to next line in cell press enter\n",
    "### to run the cell press shift+enter"
   ]
  },
  {
   "cell_type": "code",
   "execution_count": 3,
   "metadata": {},
   "outputs": [
    {
     "name": "stdout",
     "output_type": "stream",
     "text": [
      "71\n"
     ]
    }
   ],
   "source": [
    "x=10\n",
    "y=61\n",
    "print(x+y)"
   ]
  },
  {
   "cell_type": "markdown",
   "metadata": {},
   "source": [
    "tuple list set dictionary\n",
    "## List is ordered elements mutable "
   ]
  },
  {
   "cell_type": "code",
   "execution_count": 5,
   "metadata": {},
   "outputs": [
    {
     "data": {
      "text/plain": [
       "['apple', 'banana', 'cherry']"
      ]
     },
     "execution_count": 5,
     "metadata": {},
     "output_type": "execute_result"
    }
   ],
   "source": [
    "mlist=[\"apple\", \"banana\", \"cherry\"]\n",
    "mlist"
   ]
  },
  {
   "cell_type": "code",
   "execution_count": 6,
   "metadata": {},
   "outputs": [
    {
     "data": {
      "text/plain": [
       "3"
      ]
     },
     "execution_count": 6,
     "metadata": {},
     "output_type": "execute_result"
    }
   ],
   "source": [
    "len(mlist)"
   ]
  },
  {
   "cell_type": "code",
   "execution_count": 7,
   "metadata": {},
   "outputs": [],
   "source": [
    "mlist1=[\"apple\", \"banana\", \"cherry\"]\n",
    "mlist2=[10, 20, 30]\n",
    "mlist3=[True, False]\n",
    "mlist4=[\"xyz\", 34, False, 4.5]"
   ]
  },
  {
   "cell_type": "code",
   "execution_count": 9,
   "metadata": {},
   "outputs": [
    {
     "name": "stdout",
     "output_type": "stream",
     "text": [
      "<class 'list'>\n"
     ]
    }
   ],
   "source": [
    "print(type(mlist2))"
   ]
  },
  {
   "cell_type": "code",
   "execution_count": 10,
   "metadata": {},
   "outputs": [
    {
     "data": {
      "text/plain": [
       "['apple', 'banana', 'cherry']"
      ]
     },
     "execution_count": 10,
     "metadata": {},
     "output_type": "execute_result"
    }
   ],
   "source": [
    "mlist5=list((\"apple\", \"banana\", \"cherry\"))\n",
    "mlist5"
   ]
  },
  {
   "cell_type": "code",
   "execution_count": 12,
   "metadata": {},
   "outputs": [
    {
     "data": {
      "text/plain": [
       "'banana'"
      ]
     },
     "execution_count": 12,
     "metadata": {},
     "output_type": "execute_result"
    }
   ],
   "source": [
    "mlist=[\"apple\", \"banana\", \"cherry\"]\n",
    "mlist[1]"
   ]
  },
  {
   "cell_type": "code",
   "execution_count": 13,
   "metadata": {},
   "outputs": [
    {
     "data": {
      "text/plain": [
       "'cherry'"
      ]
     },
     "execution_count": 13,
     "metadata": {},
     "output_type": "execute_result"
    }
   ],
   "source": [
    "mlist=[\"apple\", \"banana\", \"cherry\"]\n",
    "mlist[2]"
   ]
  },
  {
   "cell_type": "code",
   "execution_count": 16,
   "metadata": {},
   "outputs": [
    {
     "data": {
      "text/plain": [
       "'cherry'"
      ]
     },
     "execution_count": 16,
     "metadata": {},
     "output_type": "execute_result"
    }
   ],
   "source": [
    "mlist=[\"apple\", \"banana\", \"cherry\"]\n",
    "mlist[-1]"
   ]
  },
  {
   "cell_type": "code",
   "execution_count": 17,
   "metadata": {},
   "outputs": [
    {
     "data": {
      "text/plain": [
       "['cherry', 'orange', 'kiwi']"
      ]
     },
     "execution_count": 17,
     "metadata": {},
     "output_type": "execute_result"
    }
   ],
   "source": [
    "mlist=[\"apple\", \"banana\", \"cherry\", \"orange\", \"kiwi\", \"melon\", \"mango\"]\n",
    "mlist[2:5]"
   ]
  },
  {
   "cell_type": "code",
   "execution_count": 18,
   "metadata": {},
   "outputs": [
    {
     "data": {
      "text/plain": [
       "['apple', 'banana', 'cherry', 'orange', 'kiwi']"
      ]
     },
     "execution_count": 18,
     "metadata": {},
     "output_type": "execute_result"
    }
   ],
   "source": [
    "mlist[:5]"
   ]
  },
  {
   "cell_type": "code",
   "execution_count": 19,
   "metadata": {},
   "outputs": [
    {
     "data": {
      "text/plain": [
       "['cherry', 'orange', 'kiwi', 'melon', 'mango']"
      ]
     },
     "execution_count": 19,
     "metadata": {},
     "output_type": "execute_result"
    }
   ],
   "source": [
    "mlist[2:]"
   ]
  },
  {
   "cell_type": "code",
   "execution_count": 20,
   "metadata": {},
   "outputs": [
    {
     "data": {
      "text/plain": [
       "['orange', 'kiwi', 'melon']"
      ]
     },
     "execution_count": 20,
     "metadata": {},
     "output_type": "execute_result"
    }
   ],
   "source": [
    "mlist=[\"apple\", \"banana\", \"cherry\", \"orange\", \"kiwi\", \"melon\", \"mango\"]\n",
    "mlist[-4:-1]"
   ]
  },
  {
   "cell_type": "code",
   "execution_count": 21,
   "metadata": {},
   "outputs": [
    {
     "name": "stdout",
     "output_type": "stream",
     "text": [
      "Yes element is present in the list\n"
     ]
    }
   ],
   "source": [
    "mlist=[\"apple\", \"banana\", \"cherry\", \"orange\", \"kiwi\", \"melon\", \"mango\"]\n",
    "if \"kiwi\" in mlist:\n",
    "    print(\"Yes element is present in the list\")"
   ]
  },
  {
   "cell_type": "code",
   "execution_count": 23,
   "metadata": {},
   "outputs": [
    {
     "data": {
      "text/plain": [
       "['apple', 'banana', 'mango', 'cherry']"
      ]
     },
     "execution_count": 23,
     "metadata": {},
     "output_type": "execute_result"
    }
   ],
   "source": [
    "mlist=[\"apple\", \"banana\", \"cherry\"]\n",
    "mlist.insert(2, \"mango\")\n",
    "mlist"
   ]
  },
  {
   "cell_type": "code",
   "execution_count": 24,
   "metadata": {},
   "outputs": [
    {
     "data": {
      "text/plain": [
       "['apple', 'banana', 'mango', 'cherry', 'orange']"
      ]
     },
     "execution_count": 24,
     "metadata": {},
     "output_type": "execute_result"
    }
   ],
   "source": [
    "mlist.append(\"orange\")\n",
    "mlist"
   ]
  },
  {
   "cell_type": "code",
   "execution_count": 32,
   "metadata": {},
   "outputs": [
    {
     "data": {
      "text/plain": [
       "['apple', 'banana', 'cherry', 'orange', 'kiwi', 'melon']"
      ]
     },
     "execution_count": 32,
     "metadata": {},
     "output_type": "execute_result"
    }
   ],
   "source": [
    "mlist1=[\"apple\", \"banana\", \"cherry\"]\n",
    "mlist2=[\"orange\", \"kiwi\", \"melon\"]\n",
    "mlist1.extend(mlist2)\n",
    "mlist1"
   ]
  },
  {
   "cell_type": "code",
   "execution_count": 26,
   "metadata": {},
   "outputs": [
    {
     "data": {
      "text/plain": [
       "['apple', 'banana', 'orange', 'kiwi', 'melon']"
      ]
     },
     "execution_count": 26,
     "metadata": {},
     "output_type": "execute_result"
    }
   ],
   "source": [
    "mlist1.remove(\"cherry\")\n",
    "mlist1"
   ]
  },
  {
   "cell_type": "code",
   "execution_count": 27,
   "metadata": {},
   "outputs": [
    {
     "data": {
      "text/plain": [
       "['apple', 'orange', 'kiwi', 'melon']"
      ]
     },
     "execution_count": 27,
     "metadata": {},
     "output_type": "execute_result"
    }
   ],
   "source": [
    "mlist1.pop(1)\n",
    "mlist1"
   ]
  },
  {
   "cell_type": "code",
   "execution_count": 28,
   "metadata": {},
   "outputs": [
    {
     "data": {
      "text/plain": [
       "['apple', 'orange', 'kiwi']"
      ]
     },
     "execution_count": 28,
     "metadata": {},
     "output_type": "execute_result"
    }
   ],
   "source": [
    "mlist1.pop()\n",
    "mlist1"
   ]
  },
  {
   "cell_type": "code",
   "execution_count": 29,
   "metadata": {},
   "outputs": [
    {
     "data": {
      "text/plain": [
       "['orange', 'kiwi']"
      ]
     },
     "execution_count": 29,
     "metadata": {},
     "output_type": "execute_result"
    }
   ],
   "source": [
    "del mlist1[0]\n",
    "mlist1"
   ]
  },
  {
   "cell_type": "code",
   "execution_count": 33,
   "metadata": {},
   "outputs": [],
   "source": [
    "del mlist1\n"
   ]
  },
  {
   "cell_type": "code",
   "execution_count": 31,
   "metadata": {},
   "outputs": [
    {
     "data": {
      "text/plain": [
       "[]"
      ]
     },
     "execution_count": 31,
     "metadata": {},
     "output_type": "execute_result"
    }
   ],
   "source": [
    "mlist2=[\"orange\", \"kiwi\", \"melon\"]\n",
    "mlist2.clear()\n",
    "mlist2"
   ]
  },
  {
   "cell_type": "code",
   "execution_count": 34,
   "metadata": {},
   "outputs": [
    {
     "ename": "NameError",
     "evalue": "name 'mlist1' is not defined",
     "output_type": "error",
     "traceback": [
      "\u001b[1;31m---------------------------------------------------------------------------\u001b[0m",
      "\u001b[1;31mNameError\u001b[0m                                 Traceback (most recent call last)",
      "\u001b[1;32m<ipython-input-34-b2b960c8614c>\u001b[0m in \u001b[0;36m<module>\u001b[1;34m\u001b[0m\n\u001b[1;32m----> 1\u001b[1;33m \u001b[0mmlist1\u001b[0m\u001b[1;33m\u001b[0m\u001b[1;33m\u001b[0m\u001b[0m\n\u001b[0m",
      "\u001b[1;31mNameError\u001b[0m: name 'mlist1' is not defined"
     ]
    }
   ],
   "source": [
    "mlist1"
   ]
  },
  {
   "cell_type": "code",
   "execution_count": 35,
   "metadata": {},
   "outputs": [
    {
     "data": {
      "text/plain": [
       "['apple', 'banana', 'cherry', 'kiwi', 'mango', 'melon', 'orange']"
      ]
     },
     "execution_count": 35,
     "metadata": {},
     "output_type": "execute_result"
    }
   ],
   "source": [
    "mlist=[\"melon\", \"banana\",  \"orange\",\"apple\", \"kiwi\", \"mango\", \"cherry\"]\n",
    "mlist.sort()\n",
    "mlist"
   ]
  },
  {
   "cell_type": "code",
   "execution_count": 36,
   "metadata": {},
   "outputs": [
    {
     "data": {
      "text/plain": [
       "['orange', 'melon', 'mango', 'kiwi', 'cherry', 'banana', 'apple']"
      ]
     },
     "execution_count": 36,
     "metadata": {},
     "output_type": "execute_result"
    }
   ],
   "source": [
    "mlist=[\"melon\", \"banana\",  \"orange\",\"apple\", \"kiwi\", \"mango\", \"cherry\"]\n",
    "mlist.sort(reverse=True)\n",
    "mlist"
   ]
  },
  {
   "cell_type": "code",
   "execution_count": 37,
   "metadata": {},
   "outputs": [
    {
     "data": {
      "text/plain": [
       "['cherry', 'mango', 'kiwi', 'apple', 'orange', 'banana', 'melon']"
      ]
     },
     "execution_count": 37,
     "metadata": {},
     "output_type": "execute_result"
    }
   ],
   "source": [
    "mlist=[\"melon\", \"banana\",  \"orange\",\"apple\", \"kiwi\", \"mango\", \"cherry\"]\n",
    "mlist.reverse()\n",
    "mlist"
   ]
  },
  {
   "cell_type": "code",
   "execution_count": 38,
   "metadata": {},
   "outputs": [
    {
     "data": {
      "text/plain": [
       "['orange', 'kiwi', 'melon']"
      ]
     },
     "execution_count": 38,
     "metadata": {},
     "output_type": "execute_result"
    }
   ],
   "source": [
    "mlist=[\"orange\", \"kiwi\", \"melon\"]\n",
    "nlist=mlist.copy()\n",
    "mlist\n",
    "nlist"
   ]
  },
  {
   "cell_type": "code",
   "execution_count": 39,
   "metadata": {},
   "outputs": [
    {
     "data": {
      "text/plain": [
       "['orange', 'kiwi', 'melon']"
      ]
     },
     "execution_count": 39,
     "metadata": {},
     "output_type": "execute_result"
    }
   ],
   "source": [
    "mlist"
   ]
  },
  {
   "cell_type": "code",
   "execution_count": 40,
   "metadata": {},
   "outputs": [
    {
     "data": {
      "text/plain": [
       "['orange', 'kiwi', 'melon']"
      ]
     },
     "execution_count": 40,
     "metadata": {},
     "output_type": "execute_result"
    }
   ],
   "source": [
    "nlist"
   ]
  },
  {
   "cell_type": "code",
   "execution_count": 44,
   "metadata": {},
   "outputs": [
    {
     "data": {
      "text/plain": [
       "['orange', 'kiwi', 'melon']"
      ]
     },
     "execution_count": 44,
     "metadata": {},
     "output_type": "execute_result"
    }
   ],
   "source": [
    "mlist=[\"orange\", \"kiwi\", \"melon\"]\n",
    "nlist=list(mlist)\n",
    "nlist\n",
    "\n"
   ]
  },
  {
   "cell_type": "code",
   "execution_count": 45,
   "metadata": {},
   "outputs": [
    {
     "data": {
      "text/plain": [
       "['orange', 'kiwi', 'melon', 10, 20, 30]"
      ]
     },
     "execution_count": 45,
     "metadata": {},
     "output_type": "execute_result"
    }
   ],
   "source": [
    "mlist=[\"orange\", \"kiwi\", \"melon\"]\n",
    "nlist=[10, 20, 30]\n",
    "slist=mlist+nlist\n",
    "slist"
   ]
  },
  {
   "cell_type": "code",
   "execution_count": 47,
   "metadata": {},
   "outputs": [
    {
     "ename": "TypeError",
     "evalue": "count() takes exactly one argument (0 given)",
     "output_type": "error",
     "traceback": [
      "\u001b[1;31m---------------------------------------------------------------------------\u001b[0m",
      "\u001b[1;31mTypeError\u001b[0m                                 Traceback (most recent call last)",
      "\u001b[1;32m<ipython-input-47-acfbeb2ec826>\u001b[0m in \u001b[0;36m<module>\u001b[1;34m\u001b[0m\n\u001b[1;32m----> 1\u001b[1;33m \u001b[0mx\u001b[0m\u001b[1;33m=\u001b[0m\u001b[0mslist\u001b[0m\u001b[1;33m.\u001b[0m\u001b[0mcount\u001b[0m\u001b[1;33m(\u001b[0m\u001b[1;33m)\u001b[0m\u001b[1;33m\u001b[0m\u001b[1;33m\u001b[0m\u001b[0m\n\u001b[0m\u001b[0;32m      2\u001b[0m \u001b[0mx\u001b[0m\u001b[1;33m\u001b[0m\u001b[1;33m\u001b[0m\u001b[0m\n",
      "\u001b[1;31mTypeError\u001b[0m: count() takes exactly one argument (0 given)"
     ]
    }
   ],
   "source": []
  },
  {
   "cell_type": "code",
   "execution_count": 48,
   "metadata": {},
   "outputs": [],
   "source": [
    "mlist=[\"melon\", \"banana\",  \"orange\",\"apple\", \"kiwi\", \"mango\", \"cherry\", \"orange\"]\n",
    "x=mlist.count(\"orange\")"
   ]
  },
  {
   "cell_type": "code",
   "execution_count": 49,
   "metadata": {},
   "outputs": [
    {
     "data": {
      "text/plain": [
       "2"
      ]
     },
     "execution_count": 49,
     "metadata": {},
     "output_type": "execute_result"
    }
   ],
   "source": [
    "x"
   ]
  },
  {
   "cell_type": "code",
   "execution_count": 50,
   "metadata": {},
   "outputs": [
    {
     "name": "stdout",
     "output_type": "stream",
     "text": [
      "Requirement already satisfied: numpy in c:\\users\\admin\\anaconda3\\lib\\site-packages (1.19.2)Note: you may need to restart the kernel to use updated packages.\n",
      "\n"
     ]
    }
   ],
   "source": [
    "pip install numpy"
   ]
  },
  {
   "cell_type": "code",
   "execution_count": 51,
   "metadata": {},
   "outputs": [
    {
     "name": "stdout",
     "output_type": "stream",
     "text": [
      "Collecting package metadata (current_repodata.json): ...working... done\n",
      "Solving environment: ...working... done\n",
      "\n",
      "## Package Plan ##\n",
      "\n",
      "  environment location: C:\\Users\\Admin\\anaconda3\n",
      "\n",
      "  added / updated specs:\n",
      "    - numpy\n",
      "\n",
      "\n",
      "The following packages will be downloaded:\n",
      "\n",
      "    package                    |            build\n",
      "    ---------------------------|-----------------\n",
      "    conda-4.10.3               |   py38haa95532_0         2.9 MB\n",
      "    ------------------------------------------------------------\n",
      "                                           Total:         2.9 MB\n",
      "\n",
      "The following packages will be UPDATED:\n",
      "\n",
      "  conda                               4.10.1-py38haa95532_1 --> 4.10.3-py38haa95532_0\n",
      "\n",
      "\n",
      "\n",
      "Downloading and Extracting Packages\n",
      "\n",
      "conda-4.10.3         | 2.9 MB    |            |   0% \n",
      "conda-4.10.3         | 2.9 MB    |            |   1% \n",
      "conda-4.10.3         | 2.9 MB    | 1          |   1% \n",
      "conda-4.10.3         | 2.9 MB    | 1          |   2% \n",
      "conda-4.10.3         | 2.9 MB    | 2          |   2% \n",
      "conda-4.10.3         | 2.9 MB    | 3          |   3% \n",
      "conda-4.10.3         | 2.9 MB    | 3          |   4% \n",
      "conda-4.10.3         | 2.9 MB    | 4          |   5% \n",
      "conda-4.10.3         | 2.9 MB    | 5          |   6% \n",
      "conda-4.10.3         | 2.9 MB    | 7          |   7% \n",
      "conda-4.10.3         | 2.9 MB    | 8          |   8% \n",
      "conda-4.10.3         | 2.9 MB    | 9          |   9% \n",
      "conda-4.10.3         | 2.9 MB    | #          |  10% \n",
      "conda-4.10.3         | 2.9 MB    | #1         |  11% \n",
      "conda-4.10.3         | 2.9 MB    | #2         |  13% \n",
      "conda-4.10.3         | 2.9 MB    | #3         |  14% \n",
      "conda-4.10.3         | 2.9 MB    | #4         |  15% \n",
      "conda-4.10.3         | 2.9 MB    | #5         |  16% \n",
      "conda-4.10.3         | 2.9 MB    | #6         |  17% \n",
      "conda-4.10.3         | 2.9 MB    | #7         |  18% \n",
      "conda-4.10.3         | 2.9 MB    | #9         |  19% \n",
      "conda-4.10.3         | 2.9 MB    | #9         |  20% \n",
      "conda-4.10.3         | 2.9 MB    | ##         |  20% \n",
      "conda-4.10.3         | 2.9 MB    | ##         |  21% \n",
      "conda-4.10.3         | 2.9 MB    | ##1        |  21% \n",
      "conda-4.10.3         | 2.9 MB    | ##1        |  22% \n",
      "conda-4.10.3         | 2.9 MB    | ##2        |  22% \n",
      "conda-4.10.3         | 2.9 MB    | ##2        |  23% \n",
      "conda-4.10.3         | 2.9 MB    | ##3        |  23% \n",
      "conda-4.10.3         | 2.9 MB    | ##3        |  24% \n",
      "conda-4.10.3         | 2.9 MB    | ##5        |  25% \n",
      "conda-4.10.3         | 2.9 MB    | ##5        |  26% \n",
      "conda-4.10.3         | 2.9 MB    | ##6        |  27% \n",
      "conda-4.10.3         | 2.9 MB    | ##7        |  28% \n",
      "conda-4.10.3         | 2.9 MB    | ##8        |  29% \n",
      "conda-4.10.3         | 2.9 MB    | ##9        |  30% \n",
      "conda-4.10.3         | 2.9 MB    | ###1       |  31% \n",
      "conda-4.10.3         | 2.9 MB    | ###2       |  32% \n",
      "conda-4.10.3         | 2.9 MB    | ###3       |  33% \n",
      "conda-4.10.3         | 2.9 MB    | ###4       |  34% \n",
      "conda-4.10.3         | 2.9 MB    | ###5       |  35% \n",
      "conda-4.10.3         | 2.9 MB    | ###6       |  36% \n",
      "conda-4.10.3         | 2.9 MB    | ###7       |  38% \n",
      "conda-4.10.3         | 2.9 MB    | ###8       |  39% \n",
      "conda-4.10.3         | 2.9 MB    | ###9       |  40% \n",
      "conda-4.10.3         | 2.9 MB    | ####       |  41% \n",
      "conda-4.10.3         | 2.9 MB    | ####1      |  42% \n",
      "conda-4.10.3         | 2.9 MB    | ####3      |  43% \n",
      "conda-4.10.3         | 2.9 MB    | ####4      |  44% \n",
      "conda-4.10.3         | 2.9 MB    | ####5      |  45% \n",
      "conda-4.10.3         | 2.9 MB    | ####6      |  46% \n",
      "conda-4.10.3         | 2.9 MB    | ####7      |  47% \n",
      "conda-4.10.3         | 2.9 MB    | ####8      |  48% \n",
      "conda-4.10.3         | 2.9 MB    | ####9      |  50% \n",
      "conda-4.10.3         | 2.9 MB    | #####      |  51% \n",
      "conda-4.10.3         | 2.9 MB    | #####1     |  52% \n",
      "conda-4.10.3         | 2.9 MB    | #####2     |  53% \n",
      "conda-4.10.3         | 2.9 MB    | #####3     |  54% \n",
      "conda-4.10.3         | 2.9 MB    | #####5     |  55% \n",
      "conda-4.10.3         | 2.9 MB    | #####6     |  56% \n",
      "conda-4.10.3         | 2.9 MB    | #####7     |  57% \n",
      "conda-4.10.3         | 2.9 MB    | #####8     |  58% \n",
      "conda-4.10.3         | 2.9 MB    | #####9     |  59% \n",
      "conda-4.10.3         | 2.9 MB    | ######     |  60% \n",
      "conda-4.10.3         | 2.9 MB    | ######1    |  62% \n",
      "conda-4.10.3         | 2.9 MB    | ######2    |  63% \n",
      "conda-4.10.3         | 2.9 MB    | ######3    |  64% \n",
      "conda-4.10.3         | 2.9 MB    | ######4    |  65% \n",
      "conda-4.10.3         | 2.9 MB    | ######5    |  66% \n",
      "conda-4.10.3         | 2.9 MB    | ######6    |  67% \n",
      "conda-4.10.3         | 2.9 MB    | ######8    |  68% \n",
      "conda-4.10.3         | 2.9 MB    | ######8    |  69% \n",
      "conda-4.10.3         | 2.9 MB    | ######9    |  70% \n",
      "conda-4.10.3         | 2.9 MB    | #######    |  71% \n",
      "conda-4.10.3         | 2.9 MB    | #######1   |  72% \n",
      "conda-4.10.3         | 2.9 MB    | #######2   |  73% \n",
      "conda-4.10.3         | 2.9 MB    | #######4   |  74% \n",
      "conda-4.10.3         | 2.9 MB    | #######5   |  75% \n",
      "conda-4.10.3         | 2.9 MB    | #######6   |  76% \n",
      "conda-4.10.3         | 2.9 MB    | #######7   |  77% \n",
      "conda-4.10.3         | 2.9 MB    | #######8   |  78% \n",
      "conda-4.10.3         | 2.9 MB    | #######9   |  80% \n",
      "conda-4.10.3         | 2.9 MB    | ########   |  81% \n",
      "conda-4.10.3         | 2.9 MB    | ########1  |  82% \n",
      "conda-4.10.3         | 2.9 MB    | ########2  |  83% \n",
      "conda-4.10.3         | 2.9 MB    | ########3  |  84% \n",
      "conda-4.10.3         | 2.9 MB    | ########4  |  85% \n",
      "conda-4.10.3         | 2.9 MB    | ########6  |  86% \n",
      "conda-4.10.3         | 2.9 MB    | ########7  |  87% \n",
      "conda-4.10.3         | 2.9 MB    | ########8  |  88% \n",
      "conda-4.10.3         | 2.9 MB    | ########9  |  89% \n",
      "conda-4.10.3         | 2.9 MB    | #########  |  90% \n",
      "conda-4.10.3         | 2.9 MB    | #########1 |  91% \n",
      "conda-4.10.3         | 2.9 MB    | #########3 |  93% \n",
      "conda-4.10.3         | 2.9 MB    | #########4 |  94% \n",
      "conda-4.10.3         | 2.9 MB    | #########5 |  95% \n",
      "conda-4.10.3         | 2.9 MB    | #########6 |  96% \n",
      "conda-4.10.3         | 2.9 MB    | #########7 |  97% \n",
      "conda-4.10.3         | 2.9 MB    | #########8 |  99% \n",
      "conda-4.10.3         | 2.9 MB    | #########9 | 100% \n",
      "conda-4.10.3         | 2.9 MB    | ########## | 100% \n",
      "Preparing transaction: ...working... done\n",
      "Verifying transaction: ...working... done\n",
      "Executing transaction: ...working... done\n",
      "\n",
      "Note: you may need to restart the kernel to use updated packages.\n"
     ]
    }
   ],
   "source": [
    "conda install numpy"
   ]
  },
  {
   "cell_type": "code",
   "execution_count": null,
   "metadata": {},
   "outputs": [],
   "source": []
  }
 ],
 "metadata": {
  "kernelspec": {
   "display_name": "Python 3",
   "language": "python",
   "name": "python3"
  },
  "language_info": {
   "codemirror_mode": {
    "name": "ipython",
    "version": 3
   },
   "file_extension": ".py",
   "mimetype": "text/x-python",
   "name": "python",
   "nbconvert_exporter": "python",
   "pygments_lexer": "ipython3",
   "version": "3.8.5"
  }
 },
 "nbformat": 4,
 "nbformat_minor": 4
}
