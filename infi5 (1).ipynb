{
 "cells": [
  {
   "cell_type": "code",
   "execution_count": 1,
   "metadata": {},
   "outputs": [
    {
     "data": {
      "text/plain": [
       "77.42857142857143"
      ]
     },
     "execution_count": 1,
     "metadata": {},
     "output_type": "execute_result"
    }
   ],
   "source": [
    "import numpy as np\n",
    "speed=[32,111,138,28,59,77,97]\n",
    "x=np.mean(speed)\n",
    "x"
   ]
  },
  {
   "cell_type": "code",
   "execution_count": 2,
   "metadata": {},
   "outputs": [
    {
     "data": {
      "text/plain": [
       "77.0"
      ]
     },
     "execution_count": 2,
     "metadata": {},
     "output_type": "execute_result"
    }
   ],
   "source": [
    "import numpy as np\n",
    "speed=[32,111,138,28,59,77,97]\n",
    "x=np.median(speed)\n",
    "x"
   ]
  },
  {
   "cell_type": "code",
   "execution_count": 4,
   "metadata": {},
   "outputs": [
    {
     "data": {
      "text/plain": [
       "ModeResult(mode=array([32]), count=array([2]))"
      ]
     },
     "execution_count": 4,
     "metadata": {},
     "output_type": "execute_result"
    }
   ],
   "source": [
    "from scipy import stats\n",
    "speed=[32,111,138,28,32,77,97]\n",
    "x=stats.mode(speed)\n",
    "x"
   ]
  },
  {
   "cell_type": "code",
   "execution_count": 5,
   "metadata": {},
   "outputs": [
    {
     "data": {
      "text/plain": [
       "1432.2448979591834"
      ]
     },
     "execution_count": 5,
     "metadata": {},
     "output_type": "execute_result"
    }
   ],
   "source": [
    "import numpy as np\n",
    "speed=[32,111,138,28,59,77,97]\n",
    "x=np.var(speed)\n",
    "x"
   ]
  },
  {
   "cell_type": "code",
   "execution_count": 6,
   "metadata": {},
   "outputs": [
    {
     "data": {
      "text/plain": [
       "37.84501153334721"
      ]
     },
     "execution_count": 6,
     "metadata": {},
     "output_type": "execute_result"
    }
   ],
   "source": [
    "import numpy as np\n",
    "speed=[32,111,138,28,59,77,97]\n",
    "x=np.std(speed)\n",
    "x"
   ]
  },
  {
   "cell_type": "code",
   "execution_count": 8,
   "metadata": {},
   "outputs": [
    {
     "data": {
      "text/plain": [
       "array([2.8344671 , 4.26445418, 1.27741151, 2.29063994, 1.37671039,\n",
       "       2.7645017 , 2.08055612, 3.66955657, 4.92234795, 3.35441914,\n",
       "       4.02462678, 4.7062362 , 2.90626535, 4.21683856, 1.22676005,\n",
       "       1.68359991, 4.54469266, 0.28376774, 4.53447047, 1.17740381,\n",
       "       1.69411305, 1.78138613, 4.97874166, 3.17026614, 4.44501546,\n",
       "       3.14938198, 2.67454633, 2.5273922 , 1.29334826, 4.70452825,\n",
       "       2.73893856, 1.00506734, 4.63436974, 3.55681596, 0.90233171,\n",
       "       0.40182833, 0.75003463, 3.27410318, 1.11618086, 1.90603693,\n",
       "       0.38922165, 1.80922888, 1.86205529, 3.45788937, 4.48415278,\n",
       "       3.34205324, 4.13738683, 0.1763209 , 1.05004923, 1.05797199,\n",
       "       2.08224711, 1.71527142, 4.15979439, 3.82546001, 2.25718109,\n",
       "       1.04036888, 3.86611795, 4.41489344, 4.4979964 , 4.7996301 ,\n",
       "       2.01068538, 0.36483014, 1.71553964, 2.00929774, 2.04098197,\n",
       "       0.7877783 , 4.27141015, 2.36355336, 3.92736974, 4.64288527,\n",
       "       4.24243215, 3.78912885, 3.68994543, 1.68683745, 1.41503466,\n",
       "       3.97997053, 3.85172734, 1.5889192 , 1.53470795, 2.23363679,\n",
       "       4.84657507, 4.38193457, 3.11119892, 1.98428233, 1.28644303,\n",
       "       3.77091362, 3.70949878, 0.72072416, 3.15829933, 3.84288758,\n",
       "       3.78757342, 1.32212981, 4.86795511, 1.63574748, 4.64585388,\n",
       "       1.14201418, 1.25997763, 0.32003721, 2.12995377, 1.4762888 ])"
      ]
     },
     "execution_count": 8,
     "metadata": {},
     "output_type": "execute_result"
    }
   ],
   "source": [
    "import numpy as np\n",
    "x=np.random.uniform(0.0, 5.0, 100)\n",
    "x"
   ]
  },
  {
   "cell_type": "code",
   "execution_count": 14,
   "metadata": {},
   "outputs": [
    {
     "data": {
      "image/png": "[encoded data removed]",
      "text/plain": [
       "<Figure size 432x288 with 1 Axes>"
      ]
     },
     "metadata": {
      "needs_background": "light"
     },
     "output_type": "display_data"
    },
    {
     "data": {
      "text/plain": [
       "array([1.21561822, 1.80335858, 4.73055399, 2.04238694, 1.97992756,\n",
       "       0.7276992 , 0.17383805, 4.5355036 , 1.28523757, 1.51926458,\n",
       "       2.09515677, 4.32102549, 4.58892824, 3.06948836, 2.96109307,\n",
       "       0.55208691, 1.72897307, 0.52498919, 3.66771961, 0.91908025,\n",
       "       2.69213853, 3.55528787, 3.16603015, 3.03475742, 3.43244972,\n",
       "       4.46760718, 1.24769342, 1.17387933, 1.44937141, 4.08517853,\n",
       "       0.64456901, 0.1756088 , 4.45112002, 1.80673818, 3.89393271,\n",
       "       1.79080657, 1.74219884, 4.53397011, 4.34705227, 0.51087893,\n",
       "       1.94564896, 2.06345004, 1.23737841, 0.45797115, 1.16624728,\n",
       "       0.18340595, 3.37090597, 3.94971398, 2.03396396, 1.95425887,\n",
       "       2.11550548, 0.5998595 , 2.42476564, 1.49641   , 0.14972009,\n",
       "       3.59923232, 1.47931073, 4.3603282 , 4.86841105, 4.92892848,\n",
       "       1.53263589, 4.48108084, 4.1007547 , 4.98268874, 1.14552868,\n",
       "       2.37784989, 3.49298558, 3.87236436, 0.92444607, 2.3565134 ,\n",
       "       4.91214039, 0.41914682, 3.93078751, 1.31511467, 2.23685875,\n",
       "       2.56581539, 2.57256633, 4.93610694, 0.48515706, 2.92253358,\n",
       "       1.29044815, 0.13533065, 2.57399797, 2.38562053, 3.39289262,\n",
       "       4.32195836, 3.93372396, 1.48880429, 3.30062411, 0.39437827,\n",
       "       4.42550981, 1.92277422, 2.30491474, 2.93312084, 0.79962203,\n",
       "       0.45771037, 0.55859703, 0.37595391, 3.64046905, 0.27655651,\n",
       "       0.02702415, 2.44481982, 2.15342469, 1.51179953, 1.18740856,\n",
       "       0.7559858 , 2.63276173, 2.07511215, 4.60066426, 4.54635475,\n",
       "       0.2108431 , 3.49313994, 0.19178584, 2.77304465, 2.00513553,\n",
       "       2.97500684, 3.3562289 , 1.83489504, 3.58660639, 1.0211572 ,\n",
       "       0.97228923, 1.34962282, 0.49016188, 2.58640203, 3.98027577,\n",
       "       2.35407742, 3.22236624, 0.66985545, 3.13236529, 4.49594372,\n",
       "       2.74342676, 2.16802226, 2.36158451, 0.25649567, 3.92740486,\n",
       "       4.88881544, 3.28156745, 0.2482722 , 0.86047103, 2.46209062,\n",
       "       2.50561915, 4.36011647, 0.86894195, 1.88730328, 2.37463776,\n",
       "       1.72363604, 1.96664155, 1.92861848, 4.13546316, 4.83916764,\n",
       "       2.30799146, 2.24719926, 4.52687828, 3.17661904, 0.66249683,\n",
       "       2.14896937, 2.55867948, 3.10526888, 2.8746863 , 1.27914966,\n",
       "       0.53210228, 4.23826002, 1.50015549, 2.939356  , 4.5507072 ,\n",
       "       0.05717189, 0.95772422, 2.30449934, 1.79981497, 3.55672629,\n",
       "       1.6165386 , 1.03177439, 4.18623759, 1.52653132, 4.08352315,\n",
       "       4.83530518, 3.89325674, 3.36227569, 0.18572807, 0.6057906 ,\n",
       "       0.16007777, 3.07273773, 0.27938357, 3.73883924, 3.67037389,\n",
       "       1.08532552, 4.99298007, 1.57717507, 4.92238694, 0.91064186,\n",
       "       1.06606825, 0.1094819 , 2.55244246, 1.18365544, 4.66227589,\n",
       "       0.64194828, 0.42827619, 1.43511121, 2.42826353, 2.96791422,\n",
       "       1.51231516, 3.84732113, 3.93881841, 1.8709077 , 1.43150437,\n",
       "       2.48597862, 0.50108078, 3.55235968, 4.35360392, 0.78107965,\n",
       "       1.52018456, 2.29409273, 1.78486981, 1.83087154, 0.69222796,\n",
       "       2.26228866, 1.20544471, 0.66256891, 0.63127855, 3.95740626,\n",
       "       1.85287785, 2.83463041, 0.88910098, 2.27708839, 2.28179792,\n",
       "       1.90496557, 0.63074824, 2.26702999, 3.44265554, 2.27442536,\n",
       "       0.68793345, 1.62740968, 3.38792387, 2.5879494 , 0.44509228,\n",
       "       0.4278843 , 4.6617181 , 4.1959656 , 2.84047982, 4.2816985 ,\n",
       "       3.92349493, 4.40793539, 1.44617633, 3.70946601, 1.9282181 ,\n",
       "       2.72606049, 1.95676324, 2.57273158, 1.44611875, 0.25976819])"
      ]
     },
     "execution_count": 14,
     "metadata": {},
     "output_type": "execute_result"
    }
   ],
   "source": [
    "import numpy as np\n",
    "import matplotlib.pyplot as plt\n",
    "x=np.random.uniform(0.0, 5.0, 250)\n",
    "plt.hist(x,5)\n",
    "plt.show()\n",
    "x"
   ]
  },
  {
   "cell_type": "code",
   "execution_count": null,
   "metadata": {},
   "outputs": [],
   "source": []
  }
 ],
 "metadata": {
  "kernelspec": {
   "display_name": "Python 3",
   "language": "python",
   "name": "python3"
  },
  "language_info": {
   "codemirror_mode": {
    "name": "ipython",
    "version": 3
   },
   "file_extension": ".py",
   "mimetype": "text/x-python",
   "name": "python",
   "nbconvert_exporter": "python",
   "pygments_lexer": "ipython3",
   "version": "3.8.5"
  }
 },
 "nbformat": 4,
 "nbformat_minor": 4
}
